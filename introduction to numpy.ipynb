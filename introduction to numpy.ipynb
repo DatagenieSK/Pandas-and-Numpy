{
 "cells": [
  {
   "cell_type": "code",
   "execution_count": 1,
   "metadata": {},
   "outputs": [],
   "source": [
    "# Import numpy package\n",
    "import numpy as np"
   ]
  },
  {
   "cell_type": "markdown",
   "metadata": {},
   "source": [
    "## array "
   ]
  },
  {
   "cell_type": "code",
   "execution_count": 3,
   "metadata": {},
   "outputs": [
    {
     "name": "stdout",
     "output_type": "stream",
     "text": [
      "10\n",
      "<class 'numpy.ndarray'>\n",
      "0\n"
     ]
    }
   ],
   "source": [
    "# create an array to store single element 10\n",
    "arr = np.array(10)\n",
    "print(arr)\n",
    "print(type(arr)) #return type of array\n",
    "print(arr.ndim) #return dimension of array\n"
   ]
  },
  {
   "cell_type": "code",
   "execution_count": 7,
   "metadata": {},
   "outputs": [
    {
     "name": "stdout",
     "output_type": "stream",
     "text": [
      "[1, 2, 3, 4, 5]\n",
      "<class 'list'>\n",
      "converting_list_to_array\n",
      "[1 2 3 4 5]\n",
      "<class 'numpy.ndarray'>\n",
      "1\n"
     ]
    }
   ],
   "source": [
    "# to crete 1D array we can use list or tuple\n",
    "\n",
    "A = [1,2,3,4,5]\n",
    "print(A)\n",
    "print(type(A)) #return type of list\n",
    "print(\"converting_list_to_array\")\n",
    "arr = np.array(A)\n",
    "print(arr)\n",
    "print(type(arr)) #return type of array\n",
    "print(arr.ndim) #return dimension of array"
   ]
  },
  {
   "cell_type": "code",
   "execution_count": 9,
   "metadata": {},
   "outputs": [
    {
     "name": "stdout",
     "output_type": "stream",
     "text": [
      "(1, 2, 3, 4, 5, 6, 7, 8, 9)\n",
      "<class 'tuple'>\n",
      "converting_tuple_to_array\n",
      "[1 2 3 4 5 6 7 8 9]\n",
      "<class 'numpy.ndarray'>\n",
      "1\n"
     ]
    }
   ],
   "source": [
    "# array from tuple\n",
    "\n",
    "B = tuple(range(1,10))\n",
    "print(B)\n",
    "print(type(B)) #return type of tuple\n",
    "print(\"converting_tuple_to_array\")\n",
    "arr2 = np.array(B)\n",
    "print(arr2)\n",
    "print(type(arr2)) #return type of array\n",
    "print(arr2.ndim) #return dimension of array\n"
   ]
  },
  {
   "cell_type": "markdown",
   "metadata": {},
   "source": [
    "## 2d array (basically matrices which will have rows and columns)\n",
    "# 2d array are created using nested list or nested tuple"
   ]
  },
  {
   "cell_type": "code",
   "execution_count": 11,
   "metadata": {},
   "outputs": [
    {
     "name": "stdout",
     "output_type": "stream",
     "text": [
      "[[1, 2], [3, 4]]\n",
      "<class 'list'>\n",
      "converting_list_to_2d_array\n",
      "[[1 2]\n",
      " [3 4]]\n",
      "<class 'numpy.ndarray'>\n",
      "2\n"
     ]
    }
   ],
   "source": [
    "a = [[1,2],[3,4]]\n",
    "print(a)\n",
    "print(type(a)) #return type of list\n",
    "print(\"converting_list_to_2d_array\")\n",
    "arr3 = np.array(a)\n",
    "print(arr3) \n",
    "print(type(arr3)) #return type of array\n",
    "print(arr3.ndim) #return dimension of array"
   ]
  },
  {
   "cell_type": "code",
   "execution_count": 13,
   "metadata": {},
   "outputs": [
    {
     "name": "stdout",
     "output_type": "stream",
     "text": [
      "[[2 3 7]\n",
      " [4 5 6]]\n",
      "<class 'numpy.ndarray'>\n",
      "2\n"
     ]
    }
   ],
   "source": [
    "# create a 2d array \n",
    "\n",
    "arr4 = np.array([[2,3,7],[4,5,6]])\n",
    "print(arr4)\n",
    "print(type(arr4)) #return type of array\n",
    "print(arr4.ndim) #return dimension of array"
   ]
  },
  {
   "cell_type": "markdown",
   "metadata": {},
   "source": [
    "Basic functions\n",
    "\n",
    "• size : It is used to find number of elements in a array\n",
    "\n",
    "• dtype: To find data type of elements\n",
    "\n",
    "• type: To find type of object\n",
    "\n",
    "• shape : It is used to find number of rows and columns\n",
    "* ndim : dimension of an array\n"
   ]
  },
  {
   "cell_type": "code",
   "execution_count": 16,
   "metadata": {},
   "outputs": [
    {
     "name": "stdout",
     "output_type": "stream",
     "text": [
      "[1 2 3 4 5]\n",
      "Dimension 1\n",
      "Shape (5,)\n",
      "Size 5\n",
      "Data Type int32\n",
      "type <class 'numpy.ndarray'>\n"
     ]
    }
   ],
   "source": [
    "arr = np.array([1,2,3,4,5])\n",
    "print(arr)\n",
    "print('Dimension',arr.ndim) #return dimension of array\n",
    "print(\"Shape\",arr.shape) #return shape of array\n",
    "print(\"Size\",arr.size) #return size of array\n",
    "print(\"Data Type\",arr.dtype) #return datatype of array\n",
    "print(\"type\",type(arr)) #return type of array\n"
   ]
  },
  {
   "cell_type": "code",
   "execution_count": 18,
   "metadata": {},
   "outputs": [
    {
     "name": "stdout",
     "output_type": "stream",
     "text": [
      "[[1 2 3]\n",
      " [4 5 6]]\n",
      "Dimension 2\n",
      "Shape (2, 3)\n",
      "Size 6\n",
      "Data Type int32\n",
      "type <class 'numpy.ndarray'>\n"
     ]
    }
   ],
   "source": [
    "arr_2d = np.array([[1,2,3],[4,5,6]])\n",
    "print(arr_2d)\n",
    "print('Dimension',arr_2d.ndim) #return dimension of array\n",
    "print(\"Shape\",arr_2d.shape) #return shape of array #first element is row and second element is column\n",
    "print(\"Size\",arr_2d.size) #return size of array\n",
    "print(\"Data Type\",arr_2d.dtype) #return datatype of array\n",
    "print(\"type\",type(arr_2d)) #return type of array"
   ]
  },
  {
   "cell_type": "markdown",
   "metadata": {},
   "source": [
    "## Basic maths functions\n",
    "* sum() : sum of the elements.\n",
    "* mean(): mean of array elements\n",
    "* median(): median of array elements\n",
    "* std(): standard deviation of array elements\n",
    "* min(): mini value of array\n",
    "* max(): max value of array\n",
    "* linalg.inv(): inverse of a matrix\n",
    "* linalg.det(): determinant of the matrix\n",
    "* linalg.elg(): elgenvalues and elgenvectors of a matrix"
   ]
  },
  {
   "cell_type": "code",
   "execution_count": null,
   "metadata": {},
   "outputs": [],
   "source": []
  }
 ],
 "metadata": {
  "kernelspec": {
   "display_name": "base",
   "language": "python",
   "name": "python3"
  },
  "language_info": {
   "codemirror_mode": {
    "name": "ipython",
    "version": 3
   },
   "file_extension": ".py",
   "mimetype": "text/x-python",
   "name": "python",
   "nbconvert_exporter": "python",
   "pygments_lexer": "ipython3",
   "version": "3.12.4"
  }
 },
 "nbformat": 4,
 "nbformat_minor": 2
}
